{
 "cells": [
  {
   "cell_type": "code",
   "execution_count": 63,
   "metadata": {},
   "outputs": [],
   "source": [
    "import requests\n",
    "import json\n",
    "\n",
    "rules = {\n",
    "    \"mechanicalrepricing\": {\n",
    "        'url': \"https://aps-mech-time-on-inventory-repricing.azurewebsites.net/api/aps-repricing-mechanical-time-on-inventory\",\n",
    "        'data': {}\n",
    "    }\n",
    "}\n",
    "\n",
    "rules2 = {\n",
    "    \"nonbodyrepricing\": {\n",
    "        'url': \"https://aps-others-parts-function.azurewebsites.net/api/aps-others-parts-non-body-parts-comparables\",\n",
    "        'data': {\n",
    "            \"damageWords\" : [\"NIQ\", \"CHIP\", \"CHIPPED\", \"CHIPS\", \"CRACK\", \"CRACKED\", \"DELAMINATION\",\n",
    "            \"DELAMINATED\", \"ACCESSOR\", \"ACCESSORIES\", \"ACCESSORY\", \"BAD\", \"BONDO\", \"CHECK\", \"CN\",\n",
    "            \"MISSING\", \"PEEL\", \"PEELING\", \"RASH\", \"BUBBLE\", \"BUBBLED\", \"DENT\", \"FLOOD\", \"FLUSH\",\n",
    "            \"H20\", \"H2O\", \"OUT\", \"LIFTOUT\", \"SET\", \"AM\", \"AFTERMKT\", \"AMKT\", \"AFTMKT\", \"AFTERMARKET\",\n",
    "            \"PARTS ONLY\", \"FOR PARTS\", \"CHANGEOVER\", \"BUILDER\", \"LOCAL\", \"REPAIRED\", \"REPAINTED\", \"WORK\",\n",
    "            \"DENTED\", \"BENT\", \"BROKE\", \"BROKEN\", \"DAMAGE\", \"DAMAGED\", \"DAMAGES\", \"GLUE\", \"ALUED\", \"BALAST ONLY\",\n",
    "            \"BALEST ONLY\", \"BALLAST ONLY\", \"CASING ONLY\", \"CASING ONLY\", \"RIDE HEIGHT\", \"WET INSIDE\",\n",
    "            \"SCRAPED UNK\", \"REFLECTION\", \"RTO\", \"CURR ON FE\", \"FOGGY\", \"TWIST\", \"PITTED\", \"1V2\", \"SENSORS ONLY\",\n",
    "            \"RAIL ONLY\", \"FRAME RAIL\", \"APRON\", \"WL\", \"VWI\", \"BURNT\", \"BURNED\", \"BURN\", \"NEED\", \"NEEDED\",\n",
    "            \"TOWER\", \"SETUP\", \"REPLICA\", \"DEPOT\", \"NAM\", \"REPLACEMENT\", \"LOOK AT\", \"LESS\", \"WELD\", \"FACTORY REMAN\",\n",
    "            \"PROFESSIONAL REMAN\",\"REMAN\", \"ONLY\"],\n",
    "            \"days\": \"90\",\n",
    "            \"rangeN1\" : \"0\",\n",
    "            \"rangeN2\" : \"120\",\n",
    "            \"rangeN3\" : \"202\",\n",
    "            \"weightOneAPS\" : \"50\",\n",
    "            \"weightTwoAPS\" : \"75\",\n",
    "            \"weightThreeAPS\" : \"100\",\n",
    "            \"defineQuartile1\" : \"1\",\n",
    "            \"defineQuartile2\" : \"0\",\n",
    "            \"defineQuartile3\" : \"4\",\n",
    "            \"defineQuartile4\" : \"4\"\n",
    "        }\n",
    "    },\n",
    "    \"bodyrepricing\": {\n",
    "        'url': \"https://aps-others-parts-function.azurewebsites.net/api/aps-others-parts-body-parts-comparables?code=RzfQA00nbXW1-wEM6jHgWIRLGZZgNp-3kNqgKcglTB5DAzFulWy9Kw==\",\n",
    "        'data': {\n",
    "            \"damageWords\" : [\"NIQ\", \"CHIP\", \"CHIPPED\", \"CHIPS\", \"CRACK\", \"CRACKED\", \"DELAMINATION\",\n",
    "            \"DELAMINATED\", \"ACCESSOR\", \"ACCESSORIES\", \"ACCESSORY\", \"BAD\", \"BONDO\", \"CHECK\", \"CN\",\n",
    "            \"MISSING\", \"PEEL\", \"PEELING\", \"RASH\", \"BUBBLE\", \"BUBBLED\", \"DENT\", \"FLOOD\", \"FLUSH\",\n",
    "            \"H20\", \"H2O\", \"OUT\", \"LIFTOUT\", \"SET\", \"AM\", \"AFTERMKT\", \"AMKT\", \"AFTMKT\", \"AFTERMARKET\",\n",
    "            \"PARTS ONLY\", \"FOR PARTS\", \"CHANGEOVER\", \"BUILDER\", \"LOCAL\", \"REPAIRED\", \"REPAINTED\", \"WORK\",\n",
    "            \"DENTED\", \"BENT\", \"BROKE\", \"BROKEN\", \"DAMAGE\", \"DAMAGED\", \"DAMAGES\", \"GLUE\", \"ALUED\", \"BALAST ONLY\",\n",
    "            \"BALEST ONLY\", \"BALLAST ONLY\", \"CASING ONLY\", \"CASING ONLY\", \"RIDE HEIGHT\", \"WET INSIDE\",\n",
    "            \"SCRAPED UNK\", \"REFLECTION\", \"RTO\", \"CURR ON FE\", \"FOGGY\", \"TWIST\", \"PITTED\", \"1V2\", \"SENSORS ONLY\",\n",
    "            \"RAIL ONLY\", \"FRAME RAIL\", \"APRON\", \"WL\", \"VWI\", \"BURNT\", \"BURNED\", \"BURN\", \"NEED\", \"NEEDED\",\n",
    "            \"TOWER\", \"SETUP\", \"REPLICA\", \"DEPOT\", \"NAM\", \"REPLACEMENT\", \"LOOK AT\", \"LESS\", \"WELD\", \"FACTORY REMAN\",\n",
    "            \"PROFESSIONAL REMAN\",\"REMAN\", \"ONLY\"],\n",
    "            \"bodyPartsValue\": [\"DA\", \"DB\", \"DC\", \"DD\", \"CE\", \"CF\", \"CD\", \"CB\", \"PA\", \"PB\", \"PD\", \"PE\", \"RA\", \"RB\"],\n",
    "            \"days\": \"90\",\n",
    "            \"rangeN1\" : \"0\",\n",
    "            \"rangeN2\" : \"120\",\n",
    "            \"rangeN3\" : \"202\",\n",
    "            \"weightOneAPS\" : \"50\",\n",
    "            \"weightTwoAPS\" : \"75\",\n",
    "            \"weightThreeAPS\" : \"100\",\n",
    "            \"defineQuartile1\" : \"1\",\n",
    "            \"defineQuartile2\" : \"0\",\n",
    "            \"defineQuartile3\" : \"4\",\n",
    "            \"defineQuartile4\" : \"4\"\n",
    "        }\n",
    "    },\n",
    "    \"noicrepricing\": {\n",
    "        'url': \"https://aps-noicparts-repricing-function.azurewebsites.net/api/aps-noicparts-repricing-function?code=fvOqUzp4h18AdHlePq8gg2UoTsfa1Jy7Dvs9ryofZZPfAzFu06uZPg==\",\n",
    "        'data': {}\n",
    "    }\n",
    "}\n",
    "\n",
    "def apirequest(endpoint, data):    \n",
    "    res = requests.post(url = endpoint, json = data)\n",
    "    return res\n",
    "\n",
    "def mechanicalvalidation(resmessage):\n",
    "    message = resmessage.text\n",
    "    inicio = message.find(\":\")+2\n",
    "    fin = len(message)\n",
    "    path = message[inicio:fin]\n",
    "    res = requests.get(url=path)\n",
    "    data = json.loads(res.text)\n",
    "    status = data[\"runtimeStatus\"]\n",
    "    while status == \"Running\":\n",
    "        res = requests.get(url=path)\n",
    "        data = json.loads(res.text)\n",
    "        status = data[\"runtimeStatus\"]\n",
    "    if(status == \"Completed\"):\n",
    "        response = {\n",
    "            \"text\": data[\"output\"][0] + \" \" + data[\"output\"][1],\n",
    "            \"status_code\": 200\n",
    "        }\n",
    "    else:\n",
    "        response = {\n",
    "            \"text\": data[\"output\"],\n",
    "            \"status_code\": 500\n",
    "        }\n",
    "    return response\n",
    "    "
   ]
  },
  {
   "cell_type": "code",
   "execution_count": 64,
   "metadata": {},
   "outputs": [
    {
     "name": "stdout",
     "output_type": "stream",
     "text": [
      "<Response [200]>\n",
      "{'text': 'Completed aps-mechanical-comparables-activity process Completed executing aps-mechanical-time-on-inventory-activity!', 'status_code': 200}\n",
      "Final response\n",
      "['Completed aps-mechanical-comparables-activity process Completed executing aps-mechanical-time-on-inventory-activity!']\n",
      "[200]\n"
     ]
    }
   ],
   "source": [
    "nrules = list(rules.keys())\n",
    "\n",
    "responses = []\n",
    "codes = []\n",
    "\n",
    "for i in range(0,len(nrules)):\n",
    "    res = apirequest(rules[nrules[i]]['url'],rules[nrules[i]]['data'])\n",
    "    print(res)\n",
    "    if (nrules[i] == \"mechanicalrepricing\"):\n",
    "        res = mechanicalvalidation(res)\n",
    "        responses.append(res[\"text\"])\n",
    "        codes.append(res[\"status_code\"])\n",
    "        print(res)\n",
    "        if (res[\"status_code\"]!=200):\n",
    "            break\n",
    "        continue\n",
    "    responses.append(res.text)\n",
    "    codes.append(res.status_code)\n",
    "    if (res.status_code!=200):\n",
    "        break\n",
    "print(\"Final response\")\n",
    "print(responses)\n",
    "print(codes)\n",
    "    "
   ]
  },
  {
   "cell_type": "code",
   "execution_count": 31,
   "metadata": {},
   "outputs": [],
   "source": [
    "import csv\n",
    "import pandas as pd\n"
   ]
  },
  {
   "cell_type": "code",
   "execution_count": 56,
   "metadata": {},
   "outputs": [
    {
     "name": "stdout",
     "output_type": "stream",
     "text": [
      "1585\n",
      "2\n"
     ]
    }
   ],
   "source": [
    "a = pd.read_csv('mechanical_unique_reprice.csv',header = None, names=[\"uniquecode\",\"reprice\"]) \n",
    "b = pd.read_csv('noicparts_unique_reprice.csv',header = None, names=[\"uniquecode\",\"reprice\"]) \n",
    "c = pd.read_csv('bodyparts_unique_reprice.csv',header = None, names=[\"uniquecode\",\"reprice\"]) \n",
    "d = pd.read_csv('nonbodyparts_unique_reprice.csv',header = None, names=[\"uniquecode\",\"reprice\"]) \n",
    "\n",
    "print(a.shape[0])\n",
    "print(a.shape[1])\n"
   ]
  },
  {
   "cell_type": "code",
   "execution_count": 46,
   "metadata": {},
   "outputs": [
    {
     "name": "stdout",
     "output_type": "stream",
     "text": [
      "3488\n",
      "2\n",
      "      uniquecode  reprice\n",
      "0     1001497702   1300.0\n",
      "1     1001498242   1100.0\n",
      "2     1001462092     40.0\n",
      "3     1001462102     95.0\n",
      "4     1001389418    250.0\n",
      "...          ...      ...\n",
      "3489  1001481115     75.0\n",
      "3490  1001349756    295.0\n",
      "3491  1001342799    245.0\n",
      "3492  1001313709     55.0\n",
      "3493  1001377966    195.0\n",
      "\n",
      "[3494 rows x 2 columns]\n"
     ]
    },
    {
     "name": "stderr",
     "output_type": "stream",
     "text": [
      "C:\\Users\\Fabian-Poveda\\AppData\\Local\\Temp\\ipykernel_31820\\2782567105.py:5: FutureWarning: The frame.append method is deprecated and will be removed from pandas in a future version. Use pandas.concat instead.\n",
      "  x = a.append([b,c,d],ignore_index=True)\n"
     ]
    }
   ],
   "source": [
    "y = c.shape[0]\n",
    "print(y)\n",
    "y = c.shape[1]\n",
    "print(y)\n",
    "x = a.append([b,c,d],ignore_index=True)\n",
    "print(x)"
   ]
  },
  {
   "cell_type": "code",
   "execution_count": 65,
   "metadata": {},
   "outputs": [],
   "source": [
    "# Create one file with the results of the 4 functions \n",
    "\n",
    "import logging\n",
    "import azure.functions as func\n",
    "import tempfile\n",
    "import os\n",
    "import pandas as pd\n",
    "from azure.storage.blob import BlobServiceClient, BlobClient\n",
    "from azure.storage.blob import ContentSettings, ContainerClient\n",
    "\n",
    "container = \"apsrepricing-files\"\n",
    "mechanical_reprice_filename = \"mechanical_unique_reprice.csv\"\n",
    "noic_reprice_filename = \"noicparts_unique_reprice.csv\"\n",
    "body_reprice_filename = \"bodyparts_unique_reprice.csv\"\n",
    "nonbody_reprice_filename = \"nonbodyparts_unique_reprice.csv\"\n",
    "\n",
    "MY_CONNECTION_STRING = \"DefaultEndpointsProtocol=https;AccountName=standardpricingstorage;AccountKey=aNkJlZtoz/HEjBwEfM4uYAcDd39JQlkyWS+10795Du/y+K0boexXPtg19mUOjnZBrJes+ESpZQGG+AStpA3e5g==;EndpointSuffix=core.windows.net\"\n",
    "\n",
    "def uploadToBlobStorage(containerName,fileName,upload_file_path):\n",
    "\n",
    "            blob_service_client = BlobServiceClient.from_connection_string(MY_CONNECTION_STRING)\n",
    "            blob_client = blob_service_client.get_blob_client(container=containerName, blob=fileName)\n",
    "            \n",
    "            with open(upload_file_path, \"rb\") as data:\n",
    "                blob_client.upload_blob(data,overwrite=True, connection_timeout=14400)\n",
    "                print(f\"uploading file - {fileName}\")\n",
    "\n",
    "LOCAL_BLOB_PATH = tempfile.gettempdir()\n",
    "\n",
    "def download_blob(file_name, container):\n",
    "    blob_service_client =  BlobServiceClient.from_connection_string(MY_CONNECTION_STRING)\n",
    "    my_container = blob_service_client.get_container_client(container)\n",
    "    print(file_name)\n",
    "    bytes = my_container.get_blob_client(file_name).download_blob().readall()\n",
    "    # Get full path to the file\n",
    "    download_file_path = os.path.join(LOCAL_BLOB_PATH, file_name)\n",
    "    # for nested blobs, create local path as well!\n",
    "    os.makedirs(os.path.dirname(download_file_path), exist_ok=True)\n",
    "    with open(download_file_path, \"wb\") as file:\n",
    "        file.write(bytes)\n",
    "        return download_file_path\n",
    "\n",
    "def saveToCSV_no_header(df, fileName):\n",
    "    file_path = os.path.join(LOCAL_BLOB_PATH, fileName)\n",
    "    df.to_csv(file_path, index=False, header = False)\n",
    "    return file_path\n",
    "\n",
    "def read_reprice_file(file_name, container):\n",
    "    file_path = download_blob(file_name, container)\n",
    "    reprice_file = pd.read_csv(file_path)\n",
    "    file = pd.DataFrame()\n",
    "    file['unique'] = None\n",
    "    file['reprice'] = None\n",
    "    if reprice_file.shape[0] > 0:\n",
    "        repricefile = pd.read_csv(file_path, header = None, names=[\"unique\",\"reprice\"])\n",
    "        file = file.append(repricefile,ignore_index=True)\n",
    "    return file \n"
   ]
  },
  {
   "cell_type": "code",
   "execution_count": 68,
   "metadata": {},
   "outputs": [
    {
     "name": "stdout",
     "output_type": "stream",
     "text": [
      "mechanical_unique_reprice.csv\n"
     ]
    },
    {
     "name": "stderr",
     "output_type": "stream",
     "text": [
      "C:\\Users\\Fabian-Poveda\\AppData\\Local\\Temp\\ipykernel_31820\\1010714240.py:54: FutureWarning: The frame.append method is deprecated and will be removed from pandas in a future version. Use pandas.concat instead.\n",
      "  file = file.append(repricefile,ignore_index=True)\n"
     ]
    },
    {
     "name": "stdout",
     "output_type": "stream",
     "text": [
      "noicparts_unique_reprice.csv\n"
     ]
    },
    {
     "name": "stderr",
     "output_type": "stream",
     "text": [
      "C:\\Users\\Fabian-Poveda\\AppData\\Local\\Temp\\ipykernel_31820\\1010714240.py:54: FutureWarning: The frame.append method is deprecated and will be removed from pandas in a future version. Use pandas.concat instead.\n",
      "  file = file.append(repricefile,ignore_index=True)\n"
     ]
    },
    {
     "name": "stdout",
     "output_type": "stream",
     "text": [
      "bodyparts_unique_reprice.csv\n"
     ]
    },
    {
     "name": "stderr",
     "output_type": "stream",
     "text": [
      "C:\\Users\\Fabian-Poveda\\AppData\\Local\\Temp\\ipykernel_31820\\1010714240.py:54: FutureWarning: The frame.append method is deprecated and will be removed from pandas in a future version. Use pandas.concat instead.\n",
      "  file = file.append(repricefile,ignore_index=True)\n"
     ]
    },
    {
     "name": "stdout",
     "output_type": "stream",
     "text": [
      "nonbodyparts_unique_reprice.csv\n"
     ]
    },
    {
     "name": "stderr",
     "output_type": "stream",
     "text": [
      "C:\\Users\\Fabian-Poveda\\AppData\\Local\\Temp\\ipykernel_31820\\1010714240.py:54: FutureWarning: The frame.append method is deprecated and will be removed from pandas in a future version. Use pandas.concat instead.\n",
      "  file = file.append(repricefile,ignore_index=True)\n"
     ]
    },
    {
     "name": "stdout",
     "output_type": "stream",
     "text": [
      "bodyparts_manualreprice.csv\n"
     ]
    },
    {
     "name": "stderr",
     "output_type": "stream",
     "text": [
      "C:\\Users\\Fabian-Poveda\\AppData\\Local\\Temp\\ipykernel_31820\\777353175.py:11: FutureWarning: The frame.append method is deprecated and will be removed from pandas in a future version. Use pandas.concat instead.\n",
      "  repricefile = mainfile.append([mechanicalfile, bodyfile, nonbodyfile, noicfile, nonbodyfile2], ignore_index=True)\n"
     ]
    }
   ],
   "source": [
    "mechanicalfile = read_reprice_file(mechanical_reprice_filename, container)\n",
    "noicfile = read_reprice_file(noic_reprice_filename, container)\n",
    "bodyfile = read_reprice_file(body_reprice_filename, container)\n",
    "nonbodyfile = read_reprice_file(nonbody_reprice_filename, container)\n",
    "mainfile = pd.DataFrame()\n",
    "mainfile['unique'] = None\n",
    "mainfile['reprice'] = None\n",
    "repricefile = mainfile.append([mechanicalfile, bodyfile, nonbodyfile, noicfile], ignore_index=True)"
   ]
  },
  {
   "cell_type": "code",
   "execution_count": 69,
   "metadata": {},
   "outputs": [
    {
     "name": "stdout",
     "output_type": "stream",
     "text": [
      "uploading file - aps_unique_reprice.csv\n"
     ]
    }
   ],
   "source": [
    "reprice_csv_path = saveToCSV_no_header(repricefile, 'aps_unique_reprice.csv')\n",
    "uploadToBlobStorage(container,'aps_unique_reprice.csv',reprice_csv_path)"
   ]
  }
 ],
 "metadata": {
  "kernelspec": {
   "display_name": ".venv",
   "language": "python",
   "name": "python3"
  },
  "language_info": {
   "codemirror_mode": {
    "name": "ipython",
    "version": 3
   },
   "file_extension": ".py",
   "mimetype": "text/x-python",
   "name": "python",
   "nbconvert_exporter": "python",
   "pygments_lexer": "ipython3",
   "version": "3.9.12"
  },
  "orig_nbformat": 4,
  "vscode": {
   "interpreter": {
    "hash": "42067fc8a1e1344f8f9a1cdda03aa9db4076f031a82393b48ec3c94bc7d7bc94"
   }
  }
 },
 "nbformat": 4,
 "nbformat_minor": 2
}
